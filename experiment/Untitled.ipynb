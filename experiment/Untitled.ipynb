{
 "cells": [
  {
   "cell_type": "code",
   "execution_count": 1,
   "metadata": {
    "pycharm": {
     "name": "#%%\n"
    }
   },
   "outputs": [],
   "source": [
    "from memory import Memory\n",
    "from cache import CyclicCache, LRUCache\n",
    "import utilities"
   ]
  },
  {
   "cell_type": "code",
   "execution_count": 2,
   "metadata": {
    "pycharm": {
     "name": "#%%\n"
    }
   },
   "outputs": [],
   "source": [
    "data = utilities.sample_data(size=10)\n",
    "\n",
    "mem = Memory(data)\n",
    "lru = LRUCache(data)\n",
    "cyc = CyclicCache(data)"
   ]
  },
  {
   "cell_type": "markdown",
   "metadata": {},
   "source": [
    "# The infect of memory capacity Size "
   ]
  },
  {
   "cell_type": "markdown",
   "metadata": {},
   "source": [
    "The memory hit count of CyclicCache, LRUCache in different size of memory capacity"
   ]
  },
  {
   "cell_type": "code",
   "execution_count": 17,
   "metadata": {
    "pycharm": {
     "name": "#%%\n"
    }
   },
   "outputs": [
    {
     "name": "stdout",
     "output_type": "stream",
     "text": [
      "size 1 - LRU:  81 hits\n",
      "size 1 - Cyc:  81 hits\n",
      "size 2 - LRU:  62 hits\n",
      "size 2 - Cyc:  62 hits\n",
      "size 3 - LRU:  43 hits\n",
      "size 3 - Cyc:  52 hits\n",
      "size 4 - LRU:  24 hits\n",
      "size 4 - Cyc:  51 hits\n",
      "size 5 - LRU:   5 hits\n",
      "size 5 - Cyc:   5 hits\n",
      "size 6 - LRU:   5 hits\n",
      "size 6 - Cyc:   5 hits\n",
      "size 7 - LRU:   5 hits\n",
      "size 7 - Cyc:   5 hits\n",
      "size 8 - LRU:   5 hits\n",
      "size 8 - Cyc:   5 hits\n",
      "size 9 - LRU:   5 hits\n",
      "size 9 - Cyc:   5 hits\n",
      "size 10 - LRU:   5 hits\n",
      "size 10 - Cyc:   5 hits\n",
      "[8.1, 6.2, 4.3, 2.4, 0.5, 0.5, 0.5, 0.5, 0.5, 0.5]\n",
      "[8.1, 6.2, 5.2, 5.1, 0.5, 0.5, 0.5, 0.5, 0.5, 0.5]\n"
     ]
    }
   ],
   "source": [
    "size = [1,2,3,4,5,6,7,8,9,10]\n",
    "\n",
    "result_size_lru = []\n",
    "result_size_cyc = []\n",
    "for s in size:\n",
    "\n",
    "    lru = LRUCache(data,size=s)\n",
    "    cyc = CyclicCache(data,size=s)\n",
    "\n",
    "    test_data = [1,2,3,4,5,4,4,3,2,1]\n",
    "    for i in range(10):\n",
    "\n",
    "        for datum in test_data:\n",
    "            lru.lookup(datum)\n",
    "\n",
    "        for datum in test_data:\n",
    "            cyc.lookup(datum)\n",
    "    \n",
    "\n",
    "    print(\"size {} - LRU: {:3d} hits\".format(s,lru.get_memory_hit_count()))\n",
    "    print(\"size {} - Cyc: {:3d} hits\".format(s,cyc.get_memory_hit_count()))\n"
   ]
  },
  {
   "cell_type": "code",
   "execution_count": null,
   "metadata": {},
   "outputs": [],
   "source": []
  }
 ],
 "metadata": {
  "kernelspec": {
   "display_name": "Python 3",
   "language": "python",
   "name": "python3"
  },
  "language_info": {
   "codemirror_mode": {
    "name": "ipython",
    "version": 3
   },
   "file_extension": ".py",
   "mimetype": "text/x-python",
   "name": "python",
   "nbconvert_exporter": "python",
   "pygments_lexer": "ipython3",
   "version": "3.8.5"
  }
 },
 "nbformat": 4,
 "nbformat_minor": 4
}