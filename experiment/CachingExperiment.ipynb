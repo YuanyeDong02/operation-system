{
 "cells": [
  {
   "cell_type": "code",
   "execution_count": 1,
   "metadata": {
    "pycharm": {
     "name": "#%%\n"
    }
   },
   "outputs": [],
   "source": [
    "from memory import Memory\n",
    "from cache import CyclicCache, LRUCache\n",
    "import utilities\n",
    "import random\n",
    "import matplotlib.pylab as plt"
   ]
  },
  {
   "cell_type": "markdown",
   "metadata": {
    "pycharm": {
     "name": "#%% md\n"
    }
   },
   "source": [
    "# Set up"
   ]
  },
  {
   "cell_type": "code",
   "execution_count": 2,
   "metadata": {
    "pycharm": {
     "name": "#%%\n"
    }
   },
   "outputs": [],
   "source": [
    "data = utilities.sample_data(size=10)\n",
    "mem = Memory(data)\n",
    "lru = LRUCache(data)\n",
    "cyc = CyclicCache(data)"
   ]
  },
  {
   "cell_type": "markdown",
   "metadata": {
    "pycharm": {
     "name": "#%% md\n"
    }
   },
   "source": [
    "# The impact of memory capacity Size "
   ]
  },
  {
   "cell_type": "markdown",
   "metadata": {
    "pycharm": {
     "name": "#%% md\n"
    }
   },
   "source": [
    "The memory hit count of CyclicCache, LRUCache in different size of memory capacity."
   ]
  },
  {
   "cell_type": "code",
   "execution_count": 3,
   "metadata": {
    "pycharm": {
     "name": "#%%\n"
    }
   },
   "outputs": [
    {
     "name": "stdout",
     "output_type": "stream",
     "text": [
      "size 1 - LRU:  81 hits\n",
      "size 1 - Cyc:  81 hits\n",
      "size 2 - LRU:  62 hits\n",
      "size 2 - Cyc:  62 hits\n",
      "size 3 - LRU:  43 hits\n",
      "size 3 - Cyc:  52 hits\n",
      "size 4 - LRU:  24 hits\n",
      "size 4 - Cyc:  51 hits\n",
      "size 5 - LRU:   5 hits\n",
      "size 5 - Cyc:   5 hits\n",
      "size 6 - LRU:   5 hits\n",
      "size 6 - Cyc:   5 hits\n",
      "size 7 - LRU:   5 hits\n",
      "size 7 - Cyc:   5 hits\n",
      "size 8 - LRU:   5 hits\n",
      "size 8 - Cyc:   5 hits\n",
      "size 9 - LRU:   5 hits\n",
      "size 9 - Cyc:   5 hits\n",
      "size 10 - LRU:   5 hits\n",
      "size 10 - Cyc:   5 hits\n"
     ]
    },
    {
     "data": {
      "image/png": "[encoded data removed]",
      "text/plain": [
       "<Figure size 576x576 with 1 Axes>"
      ]
     },
     "metadata": {
      "needs_background": "light"
     },
     "output_type": "display_data"
    }
   ],
   "source": [
    "size = [1,2,3,4,5,6,7,8,9,10]\n",
    "\n",
    "result_size_lru = []\n",
    "result_size_cyc = []\n",
    "for s in size:\n",
    "\n",
    "    lru = LRUCache(data,size=s)\n",
    "    cyc = CyclicCache(data,size=s)\n",
    "\n",
    "    test_data = [1,2,3,4,5,4,4,3,2,1]\n",
    "    for i in range(10):\n",
    "\n",
    "        for datum in test_data:\n",
    "            lru.lookup(datum)\n",
    "\n",
    "        for datum in test_data:\n",
    "            cyc.lookup(datum)\n",
    "\n",
    "    result_size_lru.append(lru.get_memory_hit_count()/10)\n",
    "    result_size_cyc.append(cyc.get_memory_hit_count()/10)\n",
    "\n",
    "    print(\"size {} - LRU: {:3d} hits\".format(s,lru.get_memory_hit_count()))\n",
    "    print(\"size {} - Cyc: {:3d} hits\".format(s,cyc.get_memory_hit_count()))\n",
    "\n",
    "    \n",
    "x1 = [i - 0.15 for i in range(len(size))]\n",
    "x2 = [i + 0.15 for i in range(len(size))]\n",
    "x =  [i for i in range(len(size))]\n",
    "plt.figure(figsize=(8, 8))\n",
    "plt.bar(x1,result_size_lru,width = 0.3,label = 'lru')\n",
    "plt.bar(x2,result_size_cyc,width = 0.3,label = 'cyc')\n",
    "for tx,ty in zip(x1,result_size_lru):\n",
    "    plt.text(tx,ty,'{}'.format(ty), ha='center',va='bottom')\n",
    "for tx,ty in zip(x2,result_size_cyc):\n",
    "    plt.text(tx,ty,'{}'.format(ty), ha='center',va='bottom')\n",
    "plt.xticks(x,size)\n",
    "plt.title('The Relation Between Size And The Average Number Of Access Of Memory ')\n",
    "plt.xlabel('size')\n",
    "plt.ylabel(\"Average number of access\")\n",
    "plt.legend()\n",
    "plt.show()"
   ]
  },
  {
   "cell_type": "markdown",
   "metadata": {},
   "source": [
    "# Conclusion:  "
   ]
  },
  {
   "cell_type": "markdown",
   "metadata": {},
   "source": [
    "The larger the size, the larger the memory, the fewer accesses are required, which means the larger the memory, the faster the access. So according to the chart：the larger the memory, the faster the access. "
   ]
  },
  {
   "cell_type": "markdown",
   "metadata": {},
   "source": [
    "# The differences between the behaviour of the strategies"
   ]
  },
  {
   "cell_type": "markdown",
   "metadata": {},
   "source": [
    "# Test example 1: The next search is a frequently visited item"
   ]
  },
  {
   "cell_type": "code",
   "execution_count": 4,
   "metadata": {},
   "outputs": [
    {
     "name": "stdout",
     "output_type": "stream",
     "text": [
      "Mem: 100 hits\n",
      "LRU:  24 hits\n",
      "Cyc:  51 hits\n"
     ]
    }
   ],
   "source": [
    "mem = Memory(data)\n",
    "lru = LRUCache(data)\n",
    "cyc = CyclicCache(data)\n",
    "\n",
    "test_data = [1,2,3,4,5,4,4,3,2,1]\n",
    "for i in range(10):\n",
    "    for datum in test_data:\n",
    "        mem.lookup(datum)\n",
    "\n",
    "    for datum in test_data:\n",
    "        lru.lookup(datum)\n",
    "\n",
    "    for datum in test_data:\n",
    "        cyc.lookup(datum)\n",
    "    \n",
    "\n",
    "print(\"Mem: {:3d} hits\".format(mem.get_memory_hit_count()))\n",
    "print(\"LRU: {:3d} hits\".format(lru.get_memory_hit_count()))\n",
    "print(\"Cyc: {:3d} hits\".format(cyc.get_memory_hit_count()))"
   ]
  },
  {
   "cell_type": "code",
   "execution_count": 5,
   "metadata": {},
   "outputs": [
    {
     "data": {
      "image/png": "[encoded data removed]",
      "text/plain": [
       "<Figure size 432x288 with 1 Axes>"
      ]
     },
     "metadata": {
      "needs_background": "light"
     },
     "output_type": "display_data"
    }
   ],
   "source": [
    "x = [1,2,3]\n",
    "x_t = ['Mem','Lru','Cyc']\n",
    "y = [mem.get_memory_hit_count(),lru.get_memory_hit_count(),cyc.get_memory_hit_count()]\n",
    "\n",
    "plt.bar(x,y)\n",
    "for tx,ty in zip(x,y):\n",
    "    plt.text(tx,ty,'{}'.format(ty), ha='center',va='bottom')\n",
    "plt.xticks(x,x_t)\n",
    "plt.xlabel('Caches')\n",
    "plt.ylabel(\"Hits\")\n",
    "plt.show()"
   ]
  },
  {
   "cell_type": "code",
   "execution_count": 6,
   "metadata": {},
   "outputs": [
    {
     "name": "stdout",
     "output_type": "stream",
     "text": [
      "Cache hit rate\n",
      "Hit rate Lru: is 0.76\n",
      "Hit rate Cyc: is 0.49\n"
     ]
    }
   ],
   "source": [
    "print(\"Cache hit rate\")\n",
    "print(\"Hit rate Lru: is {}\".format((mem.get_memory_hit_count()-lru.get_memory_hit_count())/mem.get_memory_hit_count()))\n",
    "print(\"Hit rate Cyc: is {}\".format((mem.get_memory_hit_count()-cyc.get_memory_hit_count())/mem.get_memory_hit_count()))"
   ]
  },
  {
   "cell_type": "markdown",
   "metadata": {},
   "source": [
    "# Conclusion"
   ]
  },
  {
   "cell_type": "markdown",
   "metadata": {},
   "source": [
    "Based on images and data, LRUCache outperforms CyclicCache if the next search is a frequently visited item. Because the memory hit count of LRUCache is samller and the cache hit rate is higher."
   ]
  },
  {
   "cell_type": "markdown",
   "metadata": {},
   "source": [
    "# Test example 2: Next search item that is not frequently visited"
   ]
  },
  {
   "cell_type": "code",
   "execution_count": 7,
   "metadata": {},
   "outputs": [
    {
     "name": "stdout",
     "output_type": "stream",
     "text": [
      "Mem: 100 hits\n",
      "LRU:  73 hits\n",
      "Cyc:  64 hits\n"
     ]
    }
   ],
   "source": [
    "mem = Memory(data)\n",
    "lru = LRUCache(data)\n",
    "cyc = CyclicCache(data)\n",
    "\n",
    "test_data = [1, 4, 3, 8, 2, 9, 4, 3, 1, 2]\n",
    "for i in range(10):\n",
    "    for datum in test_data:\n",
    "        mem.lookup(datum)\n",
    "\n",
    "    for datum in test_data:\n",
    "        lru.lookup(datum)\n",
    "\n",
    "    for datum in test_data:\n",
    "        cyc.lookup(datum)\n",
    "    \n",
    "\n",
    "print(\"Mem: {:3d} hits\".format(mem.get_memory_hit_count()))\n",
    "print(\"LRU: {:3d} hits\".format(lru.get_memory_hit_count()))\n",
    "print(\"Cyc: {:3d} hits\".format(cyc.get_memory_hit_count()))"
   ]
  },
  {
   "cell_type": "code",
   "execution_count": 8,
   "metadata": {},
   "outputs": [
    {
     "data": {
      "image/png": "[encoded data removed]",
      "text/plain": [
       "<Figure size 432x288 with 1 Axes>"
      ]
     },
     "metadata": {
      "needs_background": "light"
     },
     "output_type": "display_data"
    }
   ],
   "source": [
    "x = [1,2,3]\n",
    "x_t = ['Mem','Lru','Cyc']\n",
    "y = [mem.get_memory_hit_count(),lru.get_memory_hit_count(),cyc.get_memory_hit_count()]\n",
    "\n",
    "plt.bar(x,y)\n",
    "for tx,ty in zip(x,y):\n",
    "    plt.text(tx,ty,'{}'.format(ty), ha='center',va='bottom')\n",
    "plt.xticks(x,x_t)\n",
    "plt.xlabel('Caches')\n",
    "plt.ylabel(\"Hits\")\n",
    "plt.show()"
   ]
  },
  {
   "cell_type": "code",
   "execution_count": 9,
   "metadata": {
    "pycharm": {
     "name": "#%%\n"
    }
   },
   "outputs": [
    {
     "name": "stdout",
     "output_type": "stream",
     "text": [
      "Cache hit rate\n",
      "Hit rate Lru: is 0.27\n",
      "Hit rate Cyc: is 0.36\n"
     ]
    }
   ],
   "source": [
    "print(\"Cache hit rate\")\n",
    "print(\"Hit rate Lru: is {}\".format((mem.get_memory_hit_count()-lru.get_memory_hit_count())/mem.get_memory_hit_count()))\n",
    "print(\"Hit rate Cyc: is {}\".format((mem.get_memory_hit_count()-cyc.get_memory_hit_count())/mem.get_memory_hit_count()))"
   ]
  },
  {
   "cell_type": "markdown",
   "metadata": {},
   "source": [
    "# Conclusion"
   ]
  },
  {
   "cell_type": "markdown",
   "metadata": {},
   "source": [
    "Based on images and data, CyclicCache outperforms LRUCache if next search item that is not frequently visited. Because the memory hit count of CyclicCache is samller and the cache hit rate is higher."
   ]
  }
 ],
 "metadata": {
  "kernelspec": {
   "display_name": "Python 3",
   "language": "python",
   "name": "python3"
  },
  "language_info": {
   "codemirror_mode": {
    "name": "ipython",
    "version": 3
   },
   "file_extension": ".py",
   "mimetype": "text/x-python",
   "name": "python",
   "nbconvert_exporter": "python",
   "pygments_lexer": "ipython3",
   "version": "3.8.5"
  }
 },
 "nbformat": 4,
 "nbformat_minor": 4
}