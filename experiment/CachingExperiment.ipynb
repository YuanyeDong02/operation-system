{
 "cells": [
  {
   "cell_type": "code",
   "execution_count": 1,
   "metadata": {
    "pycharm": {
     "name": "#%%\n"
    }
   },
   "outputs": [],
   "source": [
    "from memory import Memory\n",
    "from cache import CyclicCache, LRUCache\n",
    "import utilities\n",
    "import matplotlib.pylab as plt"
   ]
  },
  {
   "cell_type": "markdown",
   "metadata": {
    "pycharm": {
     "name": "#%% md\n"
    }
   },
   "source": [
    "# Set up"
   ]
  },
  {
   "cell_type": "code",
   "execution_count": 2,
   "metadata": {
    "pycharm": {
     "name": "#%%\n"
    }
   },
   "outputs": [],
   "source": [
    "data = utilities.sample_data(size=10)\n",
    "mem = Memory(data)\n",
    "lru = LRUCache(data)\n",
    "cyc = CyclicCache(data)"
   ]
  },
  {
   "cell_type": "markdown",
   "metadata": {
    "pycharm": {
     "name": "#%% md\n"
    }
   },
   "source": [
    "# The impact of memory capacity Size "
   ]
  },
  {
   "cell_type": "markdown",
   "metadata": {
    "pycharm": {
     "name": "#%% md\n"
    }
   },
   "source": [
    "The memory hit count of CyclicCache, LRUCache in different size of memory capacity."
   ]
  },
  {
   "cell_type": "code",
   "execution_count": 3,
   "metadata": {
    "pycharm": {
     "name": "#%%\n"
    }
   },
   "outputs": [
    {
     "name": "stdout",
     "output_type": "stream",
     "text": [
      "size 1 - LRU:  81 hits\n",
      "size 1 - Cyc:  81 hits\n",
      "size 2 - LRU:  62 hits\n",
      "size 2 - Cyc:  62 hits\n",
      "size 3 - LRU:  43 hits\n",
      "size 3 - Cyc:  52 hits\n",
      "size 4 - LRU:  24 hits\n",
      "size 4 - Cyc:  51 hits\n",
      "size 5 - LRU:   5 hits\n",
      "size 5 - Cyc:   5 hits\n",
      "size 6 - LRU:   5 hits\n",
      "size 6 - Cyc:   5 hits\n",
      "size 7 - LRU:   5 hits\n",
      "size 7 - Cyc:   5 hits\n",
      "size 8 - LRU:   5 hits\n",
      "size 8 - Cyc:   5 hits\n",
      "size 9 - LRU:   5 hits\n",
      "size 9 - Cyc:   5 hits\n",
      "size 10 - LRU:   5 hits\n",
      "size 10 - Cyc:   5 hits\n"
     ]
    },
    {
     "data": {
      "image/png": "[encoded data removed]",
      "text/plain": [
       "<Figure size 576x576 with 1 Axes>"
      ]
     },
     "metadata": {
      "needs_background": "light"
     },
     "output_type": "display_data"
    }
   ],
   "source": [
    "size = [1,2,3,4,5,6,7,8,9,10]\n",
    "\n",
    "result_size_lru = []\n",
    "result_size_cyc = []\n",
    "for s in size:\n",
    "\n",
    "    lru = LRUCache(data,size=s)\n",
    "    cyc = CyclicCache(data,size=s)\n",
    "\n",
    "    test_data = [1,2,3,4,5,4,4,3,2,1]\n",
    "    for i in range(10):\n",
    "\n",
    "        for datum in test_data:\n",
    "            lru.lookup(datum)\n",
    "\n",
    "        for datum in test_data:\n",
    "            cyc.lookup(datum)\n",
    "\n",
    "    result_size_lru.append(lru.get_memory_hit_count()/10)\n",
    "    result_size_cyc.append(cyc.get_memory_hit_count()/10)\n",
    "\n",
    "    print(\"size {} - LRU: {:3d} hits\".format(s,lru.get_memory_hit_count()))\n",
    "    print(\"size {} - Cyc: {:3d} hits\".format(s,cyc.get_memory_hit_count()))\n",
    "\n",
    "    \n",
    "x1 = [i - 0.15 for i in range(len(size))]\n",
    "x2 = [i + 0.15 for i in range(len(size))]\n",
    "x =  [i for i in range(len(size))]\n",
    "plt.figure(figsize=(8, 8))\n",
    "plt.bar(x1,result_size_lru,width = 0.3,label = 'lru')\n",
    "plt.bar(x2,result_size_cyc,width = 0.3,label = 'cyc')\n",
    "for tx,ty in zip(x1,result_size_lru):\n",
    "    plt.text(tx,ty,'{}'.format(ty), ha='center',va='bottom')\n",
    "for tx,ty in zip(x2,result_size_cyc):\n",
    "    plt.text(tx,ty,'{}'.format(ty), ha='center',va='bottom')\n",
    "plt.xticks(x,size)\n",
    "plt.xlabel('size')\n",
    "plt.ylabel(\"Average number of access\")\n",
    "plt.legend()\n",
    "plt.show()"
   ]
  },
  {
   "cell_type": "markdown",
   "metadata": {},
   "source": [
    "Conclusion: The larger the memory, the faster the access "
   ]
  },
  {
   "cell_type": "markdown",
   "metadata": {},
   "source": [
    "# The differences between the behaviour of the strategies"
   ]
  },
  {
   "cell_type": "markdown",
   "metadata": {},
   "source": [
    "Test example 1: The next search is for a frequently visited item"
   ]
  },
  {
   "cell_type": "code",
   "execution_count": 4,
   "metadata": {},
   "outputs": [
    {
     "name": "stdout",
     "output_type": "stream",
     "text": [
      "Mem: 100 hits\n",
      "LRU:  24 hits\n",
      "Cyc:  51 hits\n"
     ]
    }
   ],
   "source": [
    "mem = Memory(data)\n",
    "lru = LRUCache(data)\n",
    "cyc = CyclicCache(data)\n",
    "\n",
    "test_data = [1,2,3,4,5,4,4,3,2,1]\n",
    "for i in range(10):\n",
    "    for datum in test_data:\n",
    "        mem.lookup(datum)\n",
    "\n",
    "    for datum in test_data:\n",
    "        lru.lookup(datum)\n",
    "\n",
    "    for datum in test_data:\n",
    "        cyc.lookup(datum)\n",
    "    \n",
    "\n",
    "print(\"Mem: {:3d} hits\".format(mem.get_memory_hit_count()))\n",
    "print(\"LRU: {:3d} hits\".format(lru.get_memory_hit_count()))\n",
    "print(\"Cyc: {:3d} hits\".format(cyc.get_memory_hit_count()))"
   ]
  },
  {
   "cell_type": "code",
   "execution_count": null,
   "outputs": [],
   "source": [],
   "metadata": {
    "collapsed": false,
    "pycharm": {
     "name": "#%%\n"
    }
   }
  }
 ],
 "metadata": {
  "kernelspec": {
   "display_name": "Python 3",
   "language": "python",
   "name": "python3"
  },
  "language_info": {
   "codemirror_mode": {
    "name": "ipython",
    "version": 3
   },
   "file_extension": ".py",
   "mimetype": "text/x-python",
   "name": "python",
   "nbconvert_exporter": "python",
   "pygments_lexer": "ipython3",
   "version": "3.8.5"
  }
 },
 "nbformat": 4,
 "nbformat_minor": 4
}